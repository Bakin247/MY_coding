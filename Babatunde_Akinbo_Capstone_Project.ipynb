{
 "cells": [
  {
   "cell_type": "markdown",
   "id": "d73fb243",
   "metadata": {},
   "source": [
    "# **PROJECT : Analyzing the Income Dataset**"
   ]
  },
  {
   "cell_type": "markdown",
   "id": "3a7b7b41",
   "metadata": {},
   "source": [
    "### Library Importation"
   ]
  },
  {
   "cell_type": "code",
   "execution_count": 1,
   "id": "8d650182",
   "metadata": {},
   "outputs": [],
   "source": [
    "# For Data Manipulation and Analysis:\n",
    "import numpy as np\n",
    "import pandas as pd\n",
    "\n",
    "# For Data visualization:\n",
    "import matplotlib.pyplot as plt\n",
    "import seaborn as sns\n",
    "\n",
    "# For Machine Learning and Model building:\n",
    "from sklearn.preprocessing import StandardScaler, LabelEncoder, OneHotEncoder\n",
    "from sklearn.impute import SimpleImputer \n",
    "from sklearn.model_selection import train_test_split\n",
    "from sklearn.linear_model import LogisticRegression\n",
    "from sklearn.tree import DecisionTreeClassifier\n",
    "from sklearn.neighbors import KNeighborsClassifier\n",
    "from sklearn.ensemble import RandomForestClassifier, GradientBoostingClassifier\n",
    "from sklearn.svm import SVC\n",
    "from sklearn.metrics import accuracy_score, confusion_matrix, classification_report\n",
    "from sklearn.metrics import roc_curve, auc, roc_auc_score, ConfusionMatrixDisplay\n",
    "from sklearn.pipeline import Pipeline\n",
    "import warnings\n",
    "warnings.filterwarnings('ignore')"
   ]
  },
  {
   "cell_type": "markdown",
   "id": "fe26d587",
   "metadata": {},
   "source": [
    "### Data Importation"
   ]
  },
  {
   "cell_type": "code",
   "execution_count": 2,
   "id": "0d126b51",
   "metadata": {},
   "outputs": [],
   "source": [
    "# loading/importing the dataset into the jupyter working environment:\n",
    "project_file = \"income_data.csv\"\n",
    "\n",
    "df = pd.read_csv(project_file)   # turning the dataset into a pandas dataframe"
   ]
  },
  {
   "cell_type": "markdown",
   "id": "6d97fb85",
   "metadata": {},
   "source": [
    "### Exploratory Data Analysis (EDA)"
   ]
  },
  {
   "cell_type": "code",
   "execution_count": 3,
   "id": "9ca40b38",
   "metadata": {},
   "outputs": [
    {
     "data": {
      "text/html": [
       "<div>\n",
       "<style scoped>\n",
       "    .dataframe tbody tr th:only-of-type {\n",
       "        vertical-align: middle;\n",
       "    }\n",
       "\n",
       "    .dataframe tbody tr th {\n",
       "        vertical-align: top;\n",
       "    }\n",
       "\n",
       "    .dataframe thead th {\n",
       "        text-align: right;\n",
       "    }\n",
       "</style>\n",
       "<table border=\"1\" class=\"dataframe\">\n",
       "  <thead>\n",
       "    <tr style=\"text-align: right;\">\n",
       "      <th></th>\n",
       "      <th>age</th>\n",
       "      <th>workclass</th>\n",
       "      <th>fnlwgt</th>\n",
       "      <th>education</th>\n",
       "      <th>education-num</th>\n",
       "      <th>marital-status</th>\n",
       "      <th>occupation</th>\n",
       "      <th>relationship</th>\n",
       "      <th>race</th>\n",
       "      <th>sex</th>\n",
       "      <th>capital-gain</th>\n",
       "      <th>capital-loss</th>\n",
       "      <th>hours-per-week</th>\n",
       "      <th>native-country</th>\n",
       "      <th>income</th>\n",
       "    </tr>\n",
       "  </thead>\n",
       "  <tbody>\n",
       "    <tr>\n",
       "      <th>0</th>\n",
       "      <td>39</td>\n",
       "      <td>State-gov</td>\n",
       "      <td>77516</td>\n",
       "      <td>Bachelors</td>\n",
       "      <td>13</td>\n",
       "      <td>Never-married</td>\n",
       "      <td>Adm-clerical</td>\n",
       "      <td>Not-in-family</td>\n",
       "      <td>White</td>\n",
       "      <td>Male</td>\n",
       "      <td>2174</td>\n",
       "      <td>0</td>\n",
       "      <td>40</td>\n",
       "      <td>United-States</td>\n",
       "      <td>&lt;=50K</td>\n",
       "    </tr>\n",
       "    <tr>\n",
       "      <th>1</th>\n",
       "      <td>50</td>\n",
       "      <td>Self-emp-not-inc</td>\n",
       "      <td>83311</td>\n",
       "      <td>Bachelors</td>\n",
       "      <td>13</td>\n",
       "      <td>Married-civ-spouse</td>\n",
       "      <td>Exec-managerial</td>\n",
       "      <td>Husband</td>\n",
       "      <td>White</td>\n",
       "      <td>Male</td>\n",
       "      <td>0</td>\n",
       "      <td>0</td>\n",
       "      <td>13</td>\n",
       "      <td>United-States</td>\n",
       "      <td>&lt;=50K</td>\n",
       "    </tr>\n",
       "    <tr>\n",
       "      <th>2</th>\n",
       "      <td>38</td>\n",
       "      <td>Private</td>\n",
       "      <td>215646</td>\n",
       "      <td>HS-grad</td>\n",
       "      <td>9</td>\n",
       "      <td>Divorced</td>\n",
       "      <td>Handlers-cleaners</td>\n",
       "      <td>Not-in-family</td>\n",
       "      <td>White</td>\n",
       "      <td>Male</td>\n",
       "      <td>0</td>\n",
       "      <td>0</td>\n",
       "      <td>40</td>\n",
       "      <td>United-States</td>\n",
       "      <td>&lt;=50K</td>\n",
       "    </tr>\n",
       "    <tr>\n",
       "      <th>3</th>\n",
       "      <td>53</td>\n",
       "      <td>Private</td>\n",
       "      <td>234721</td>\n",
       "      <td>11th</td>\n",
       "      <td>7</td>\n",
       "      <td>Married-civ-spouse</td>\n",
       "      <td>Handlers-cleaners</td>\n",
       "      <td>Husband</td>\n",
       "      <td>Black</td>\n",
       "      <td>Male</td>\n",
       "      <td>0</td>\n",
       "      <td>0</td>\n",
       "      <td>40</td>\n",
       "      <td>United-States</td>\n",
       "      <td>&lt;=50K</td>\n",
       "    </tr>\n",
       "    <tr>\n",
       "      <th>4</th>\n",
       "      <td>28</td>\n",
       "      <td>Private</td>\n",
       "      <td>338409</td>\n",
       "      <td>Bachelors</td>\n",
       "      <td>13</td>\n",
       "      <td>Married-civ-spouse</td>\n",
       "      <td>Prof-specialty</td>\n",
       "      <td>Wife</td>\n",
       "      <td>Black</td>\n",
       "      <td>Female</td>\n",
       "      <td>0</td>\n",
       "      <td>0</td>\n",
       "      <td>40</td>\n",
       "      <td>Cuba</td>\n",
       "      <td>&lt;=50K</td>\n",
       "    </tr>\n",
       "  </tbody>\n",
       "</table>\n",
       "</div>"
      ],
      "text/plain": [
       "   age         workclass  fnlwgt  education  education-num  \\\n",
       "0   39         State-gov   77516  Bachelors             13   \n",
       "1   50  Self-emp-not-inc   83311  Bachelors             13   \n",
       "2   38           Private  215646    HS-grad              9   \n",
       "3   53           Private  234721       11th              7   \n",
       "4   28           Private  338409  Bachelors             13   \n",
       "\n",
       "       marital-status         occupation   relationship   race     sex  \\\n",
       "0       Never-married       Adm-clerical  Not-in-family  White    Male   \n",
       "1  Married-civ-spouse    Exec-managerial        Husband  White    Male   \n",
       "2            Divorced  Handlers-cleaners  Not-in-family  White    Male   \n",
       "3  Married-civ-spouse  Handlers-cleaners        Husband  Black    Male   \n",
       "4  Married-civ-spouse     Prof-specialty           Wife  Black  Female   \n",
       "\n",
       "   capital-gain  capital-loss  hours-per-week native-country income  \n",
       "0          2174             0              40  United-States  <=50K  \n",
       "1             0             0              13  United-States  <=50K  \n",
       "2             0             0              40  United-States  <=50K  \n",
       "3             0             0              40  United-States  <=50K  \n",
       "4             0             0              40           Cuba  <=50K  "
      ]
     },
     "execution_count": 3,
     "metadata": {},
     "output_type": "execute_result"
    }
   ],
   "source": [
    "# inspecting few rows of the dataset:\n",
    "\n",
    "df.head()"
   ]
  },
  {
   "cell_type": "code",
   "execution_count": 4,
   "id": "cc1c3e75",
   "metadata": {},
   "outputs": [
    {
     "name": "stdout",
     "output_type": "stream",
     "text": [
      "The shape of the dataset is: (48842, 15)\n",
      "\n",
      "The size of the dataset is: 732630\n"
     ]
    }
   ],
   "source": [
    "# Revealing the shape and the size of the dataset:\n",
    "\n",
    "print(f\"The shape of the dataset is: {df.shape}\\n\")\n",
    "\n",
    "print(f\"The size of the dataset is: {df.size}\")"
   ]
  },
  {
   "cell_type": "code",
   "execution_count": 5,
   "id": "ac05fba6",
   "metadata": {},
   "outputs": [
    {
     "name": "stdout",
     "output_type": "stream",
     "text": [
      "<class 'pandas.core.frame.DataFrame'>\n",
      "RangeIndex: 48842 entries, 0 to 48841\n",
      "Data columns (total 15 columns):\n",
      " #   Column          Non-Null Count  Dtype \n",
      "---  ------          --------------  ----- \n",
      " 0   age             48842 non-null  int64 \n",
      " 1   workclass       47879 non-null  object\n",
      " 2   fnlwgt          48842 non-null  int64 \n",
      " 3   education       48842 non-null  object\n",
      " 4   education-num   48842 non-null  int64 \n",
      " 5   marital-status  48842 non-null  object\n",
      " 6   occupation      47876 non-null  object\n",
      " 7   relationship    48842 non-null  object\n",
      " 8   race            48842 non-null  object\n",
      " 9   sex             48842 non-null  object\n",
      " 10  capital-gain    48842 non-null  int64 \n",
      " 11  capital-loss    48842 non-null  int64 \n",
      " 12  hours-per-week  48842 non-null  int64 \n",
      " 13  native-country  48568 non-null  object\n",
      " 14  income          48842 non-null  object\n",
      "dtypes: int64(6), object(9)\n",
      "memory usage: 3.9+ MB\n",
      "None\n"
     ]
    }
   ],
   "source": [
    "# Exploring the dataset to fully understand its state and structure:\n",
    "\n",
    "print(df.info())   # Extracting a concise information about the dataset."
   ]
  },
  {
   "cell_type": "code",
   "execution_count": 6,
   "id": "8866730d",
   "metadata": {},
   "outputs": [
    {
     "data": {
      "text/html": [
       "<div>\n",
       "<style scoped>\n",
       "    .dataframe tbody tr th:only-of-type {\n",
       "        vertical-align: middle;\n",
       "    }\n",
       "\n",
       "    .dataframe tbody tr th {\n",
       "        vertical-align: top;\n",
       "    }\n",
       "\n",
       "    .dataframe thead th {\n",
       "        text-align: right;\n",
       "    }\n",
       "</style>\n",
       "<table border=\"1\" class=\"dataframe\">\n",
       "  <thead>\n",
       "    <tr style=\"text-align: right;\">\n",
       "      <th></th>\n",
       "      <th>count</th>\n",
       "      <th>mean</th>\n",
       "      <th>std</th>\n",
       "      <th>min</th>\n",
       "      <th>25%</th>\n",
       "      <th>50%</th>\n",
       "      <th>75%</th>\n",
       "      <th>max</th>\n",
       "    </tr>\n",
       "  </thead>\n",
       "  <tbody>\n",
       "    <tr>\n",
       "      <th>age</th>\n",
       "      <td>48842.0</td>\n",
       "      <td>38.643585</td>\n",
       "      <td>13.710510</td>\n",
       "      <td>17.0</td>\n",
       "      <td>28.0</td>\n",
       "      <td>37.0</td>\n",
       "      <td>48.0</td>\n",
       "      <td>90.0</td>\n",
       "    </tr>\n",
       "    <tr>\n",
       "      <th>fnlwgt</th>\n",
       "      <td>48842.0</td>\n",
       "      <td>189664.134597</td>\n",
       "      <td>105604.025423</td>\n",
       "      <td>12285.0</td>\n",
       "      <td>117550.5</td>\n",
       "      <td>178144.5</td>\n",
       "      <td>237642.0</td>\n",
       "      <td>1490400.0</td>\n",
       "    </tr>\n",
       "    <tr>\n",
       "      <th>education-num</th>\n",
       "      <td>48842.0</td>\n",
       "      <td>10.078089</td>\n",
       "      <td>2.570973</td>\n",
       "      <td>1.0</td>\n",
       "      <td>9.0</td>\n",
       "      <td>10.0</td>\n",
       "      <td>12.0</td>\n",
       "      <td>16.0</td>\n",
       "    </tr>\n",
       "    <tr>\n",
       "      <th>capital-gain</th>\n",
       "      <td>48842.0</td>\n",
       "      <td>1079.067626</td>\n",
       "      <td>7452.019058</td>\n",
       "      <td>0.0</td>\n",
       "      <td>0.0</td>\n",
       "      <td>0.0</td>\n",
       "      <td>0.0</td>\n",
       "      <td>99999.0</td>\n",
       "    </tr>\n",
       "    <tr>\n",
       "      <th>capital-loss</th>\n",
       "      <td>48842.0</td>\n",
       "      <td>87.502314</td>\n",
       "      <td>403.004552</td>\n",
       "      <td>0.0</td>\n",
       "      <td>0.0</td>\n",
       "      <td>0.0</td>\n",
       "      <td>0.0</td>\n",
       "      <td>4356.0</td>\n",
       "    </tr>\n",
       "    <tr>\n",
       "      <th>hours-per-week</th>\n",
       "      <td>48842.0</td>\n",
       "      <td>40.422382</td>\n",
       "      <td>12.391444</td>\n",
       "      <td>1.0</td>\n",
       "      <td>40.0</td>\n",
       "      <td>40.0</td>\n",
       "      <td>45.0</td>\n",
       "      <td>99.0</td>\n",
       "    </tr>\n",
       "  </tbody>\n",
       "</table>\n",
       "</div>"
      ],
      "text/plain": [
       "                  count           mean            std      min       25%  \\\n",
       "age             48842.0      38.643585      13.710510     17.0      28.0   \n",
       "fnlwgt          48842.0  189664.134597  105604.025423  12285.0  117550.5   \n",
       "education-num   48842.0      10.078089       2.570973      1.0       9.0   \n",
       "capital-gain    48842.0    1079.067626    7452.019058      0.0       0.0   \n",
       "capital-loss    48842.0      87.502314     403.004552      0.0       0.0   \n",
       "hours-per-week  48842.0      40.422382      12.391444      1.0      40.0   \n",
       "\n",
       "                     50%       75%        max  \n",
       "age                 37.0      48.0       90.0  \n",
       "fnlwgt          178144.5  237642.0  1490400.0  \n",
       "education-num       10.0      12.0       16.0  \n",
       "capital-gain         0.0       0.0    99999.0  \n",
       "capital-loss         0.0       0.0     4356.0  \n",
       "hours-per-week      40.0      45.0       99.0  "
      ]
     },
     "metadata": {},
     "output_type": "display_data"
    }
   ],
   "source": [
    "# Displaying a summary statistics about the dataset.\n",
    "\n",
    "display(df.describe().T)   # transposing the statistics table for a better readability"
   ]
  },
  {
   "cell_type": "code",
   "execution_count": 7,
   "id": "86a3302e",
   "metadata": {},
   "outputs": [
    {
     "data": {
      "text/plain": [
       "Index(['age', 'workclass', 'fnlwgt', 'education', 'education-num',\n",
       "       'marital-status', 'occupation', 'relationship', 'race', 'sex',\n",
       "       'capital-gain', 'capital-loss', 'hours-per-week', 'native-country',\n",
       "       'income'],\n",
       "      dtype='object')"
      ]
     },
     "execution_count": 7,
     "metadata": {},
     "output_type": "execute_result"
    }
   ],
   "source": [
    "# checking the feature names:\n",
    "df.columns"
   ]
  },
  {
   "cell_type": "code",
   "execution_count": 8,
   "id": "520c48e5",
   "metadata": {},
   "outputs": [
    {
     "name": "stdout",
     "output_type": "stream",
     "text": [
      "These are the Numerical Variables:\n",
      " ['age', 'fnlwgt', 'education-num', 'capital-gain', 'capital-loss', 'hours-per-week']\n",
      "\n",
      "These are the Categorical Variables:\n",
      " ['workclass', 'education', 'marital-status', 'occupation', 'relationship', 'race', 'sex', 'native-country', 'income']\n"
     ]
    }
   ],
   "source": [
    "# Identifyimg the numerical and the categorical variables in the dataset:\n",
    "\n",
    "num_var = df.select_dtypes(include = ['number']).columns.tolist()\n",
    "\n",
    "cat_var = df.select_dtypes(include = ['object']).columns.tolist()\n",
    "\n",
    "print(f\"These are the Numerical Variables:\\n {num_var}\\n\")\n",
    "print(f\"These are the Categorical Variables:\\n {cat_var}\")"
   ]
  },
  {
   "cell_type": "code",
   "execution_count": 9,
   "id": "0771a48c",
   "metadata": {},
   "outputs": [
    {
     "name": "stdout",
     "output_type": "stream",
     "text": [
      "age                int64\n",
      "workclass         object\n",
      "fnlwgt             int64\n",
      "education         object\n",
      "education-num      int64\n",
      "marital-status    object\n",
      "occupation        object\n",
      "relationship      object\n",
      "race              object\n",
      "sex               object\n",
      "capital-gain       int64\n",
      "capital-loss       int64\n",
      "hours-per-week     int64\n",
      "native-country    object\n",
      "income            object\n",
      "dtype: object\n"
     ]
    }
   ],
   "source": [
    "# Reviewing the datatypes of each column in the dataset:\n",
    "\n",
    "print(df.dtypes)"
   ]
  },
  {
   "cell_type": "markdown",
   "id": "2d0a077e",
   "metadata": {},
   "source": [
    "#### A random check on the categorical variable for better understanding"
   ]
  },
  {
   "cell_type": "code",
   "execution_count": 10,
   "id": "e56beab0",
   "metadata": {},
   "outputs": [
    {
     "data": {
      "text/plain": [
       "Private             33906\n",
       "Self-emp-not-inc     3862\n",
       "Local-gov            3136\n",
       "State-gov            1981\n",
       "?                    1836\n",
       "Self-emp-inc         1695\n",
       "Federal-gov          1432\n",
       "Without-pay            21\n",
       "Never-worked           10\n",
       "Name: workclass, dtype: int64"
      ]
     },
     "execution_count": 10,
     "metadata": {},
     "output_type": "execute_result"
    }
   ],
   "source": [
    "# exploring the different categories and their total\n",
    "df['workclass'].value_counts()"
   ]
  },
  {
   "cell_type": "code",
   "execution_count": 11,
   "id": "a3bd2a42",
   "metadata": {},
   "outputs": [
    {
     "data": {
      "text/plain": [
       "Prof-specialty       6172\n",
       "Craft-repair         6112\n",
       "Exec-managerial      6086\n",
       "Adm-clerical         5611\n",
       "Sales                5504\n",
       "Other-service        4923\n",
       "Machine-op-inspct    3022\n",
       "Transport-moving     2355\n",
       "Handlers-cleaners    2072\n",
       "?                    1843\n",
       "Farming-fishing      1490\n",
       "Tech-support         1446\n",
       "Protective-serv       983\n",
       "Priv-house-serv       242\n",
       "Armed-Forces           15\n",
       "Name: occupation, dtype: int64"
      ]
     },
     "execution_count": 11,
     "metadata": {},
     "output_type": "execute_result"
    }
   ],
   "source": [
    "df['occupation'].value_counts()"
   ]
  },
  {
   "cell_type": "code",
   "execution_count": 12,
   "id": "053bf150",
   "metadata": {},
   "outputs": [
    {
     "data": {
      "text/plain": [
       "United-States                 43832\n",
       "Mexico                          951\n",
       "?                               583\n",
       "Philippines                     295\n",
       "Germany                         206\n",
       "Puerto-Rico                     184\n",
       "Canada                          182\n",
       "El-Salvador                     155\n",
       "India                           151\n",
       "Cuba                            138\n",
       "England                         127\n",
       "China                           122\n",
       "South                           115\n",
       "Jamaica                         106\n",
       "Italy                           105\n",
       "Dominican-Republic              103\n",
       "Japan                            92\n",
       "Guatemala                        88\n",
       "Poland                           87\n",
       "Vietnam                          86\n",
       "Columbia                         85\n",
       "Haiti                            75\n",
       "Portugal                         67\n",
       "Taiwan                           65\n",
       "Iran                             59\n",
       "Greece                           49\n",
       "Nicaragua                        49\n",
       "Peru                             46\n",
       "Ecuador                          45\n",
       "France                           38\n",
       "Ireland                          37\n",
       "Hong                             30\n",
       "Thailand                         30\n",
       "Cambodia                         28\n",
       "Trinadad&Tobago                  27\n",
       "Laos                             23\n",
       "Outlying-US(Guam-USVI-etc)       23\n",
       "Yugoslavia                       23\n",
       "Scotland                         21\n",
       "Honduras                         20\n",
       "Hungary                          19\n",
       "Holand-Netherlands                1\n",
       "Name: native-country, dtype: int64"
      ]
     },
     "execution_count": 12,
     "metadata": {},
     "output_type": "execute_result"
    }
   ],
   "source": [
    "df['native-country'].value_counts()"
   ]
  },
  {
   "cell_type": "code",
   "execution_count": 13,
   "id": "01435451",
   "metadata": {},
   "outputs": [
    {
     "data": {
      "image/png": "[encoded data removed]",
      "text/plain": [
       "<Figure size 432x288 with 1 Axes>"
      ]
     },
     "metadata": {
      "needs_background": "light"
     },
     "output_type": "display_data"
    }
   ],
   "source": [
    "# display the income distribution by sex:\n",
    "sns.countplot(df['income'], palette='coolwarm', hue='sex', data=df);"
   ]
  },
  {
   "cell_type": "code",
   "execution_count": 14,
   "id": "feffa4b4",
   "metadata": {},
   "outputs": [],
   "source": [
    "# Filling the missing category names with the mode of the column:\n",
    "\n",
    "df['workclass'] = df['workclass'].replace('?', 'Private')\n",
    "df['occupation'] = df['occupation'].replace('?', 'Prof-specialty')\n",
    "df['native-country'] = df['native-country'].replace('?', 'United-States')"
   ]
  },
  {
   "cell_type": "code",
   "execution_count": 15,
   "id": "fd388067",
   "metadata": {},
   "outputs": [
    {
     "data": {
      "image/png": "[encoded data removed]",
      "text/plain": [
       "<Figure size 576x432 with 1 Axes>"
      ]
     },
     "metadata": {
      "needs_background": "light"
     },
     "output_type": "display_data"
    },
    {
     "data": {
      "image/png": "[encoded data removed]",
      "text/plain": [
       "<Figure size 1008x576 with 1 Axes>"
      ]
     },
     "metadata": {
      "needs_background": "light"
     },
     "output_type": "display_data"
    },
    {
     "data": {
      "image/png": "[encoded data removed]",
      "text/plain": [
       "<Figure size 1008x576 with 1 Axes>"
      ]
     },
     "metadata": {
      "needs_background": "light"
     },
     "output_type": "display_data"
    }
   ],
   "source": [
    "#  Distribution of income\n",
    "plt.figure(figsize=(8, 6))\n",
    "sns.countplot(x='income', data=df)\n",
    "plt.title('Income Distribution')\n",
    "plt.show()\n",
    "\n",
    "# Relationship between education and income\n",
    "plt.figure(figsize=(14, 8))\n",
    "sns.countplot(x='education', hue='income', data=df)\n",
    "plt.title('Education vs Income')\n",
    "plt.xticks(rotation=45)\n",
    "plt.show()\n",
    "\n",
    "# Relationship between age and income\n",
    "plt.figure(figsize=(14, 8))\n",
    "sns.boxplot(x='income', y='age', data=df)\n",
    "plt.title('Age vs Income')\n",
    "plt.show()\n"
   ]
  },
  {
   "cell_type": "markdown",
   "id": "a7979111",
   "metadata": {},
   "source": [
    "### Data Pre-processing and Feature Engineering"
   ]
  },
  {
   "cell_type": "code",
   "execution_count": 16,
   "id": "85fd32e8",
   "metadata": {},
   "outputs": [
    {
     "data": {
      "text/plain": [
       "Index(['age', 'workclass', 'fnlwgt', 'education', 'education-num',\n",
       "       'marital-status', 'occupation', 'relationship', 'race', 'sex',\n",
       "       'capital-gain', 'capital-loss', 'hours-per-week', 'native-country',\n",
       "       'income'],\n",
       "      dtype='object')"
      ]
     },
     "execution_count": 16,
     "metadata": {},
     "output_type": "execute_result"
    }
   ],
   "source": [
    "# Checking the columns names:\n",
    "        \n",
    "df.columns"
   ]
  },
  {
   "cell_type": "code",
   "execution_count": 17,
   "id": "cab235c9",
   "metadata": {},
   "outputs": [
    {
     "data": {
      "text/plain": [
       "Index(['age', 'workclass', 'fnlwgt', 'education', 'edu_num', 'marital',\n",
       "       'occupation', 'relationship', 'race', 'sex', 'gain', 'loss', 'hrs\\wk',\n",
       "       'nativity', 'income'],\n",
       "      dtype='object')"
      ]
     },
     "execution_count": 17,
     "metadata": {},
     "output_type": "execute_result"
    }
   ],
   "source": [
    "# Renaming the column names for easy typing when referencing them later:\n",
    "\n",
    "df = df.rename(columns={'education-num':'edu_num', 'marital-status':'marital',\n",
    "                       'capital-gain':'gain', 'capital-loss':'loss',\n",
    "                       'hours-per-week':'hrs\\wk', 'native-country':'nativity'})\n",
    "df.columns"
   ]
  },
  {
   "cell_type": "code",
   "execution_count": 18,
   "id": "518bc4f8",
   "metadata": {},
   "outputs": [
    {
     "data": {
      "text/plain": [
       "Private             35742\n",
       "Self-emp-not-inc     3862\n",
       "Local-gov            3136\n",
       "State-gov            1981\n",
       "Self-emp-inc         1695\n",
       "Federal-gov          1432\n",
       "Without-pay            21\n",
       "Never-worked           10\n",
       "Name: workclass, dtype: int64"
      ]
     },
     "execution_count": 18,
     "metadata": {},
     "output_type": "execute_result"
    }
   ],
   "source": [
    "# getting the value counts:\n",
    "\n",
    "df.workclass.value_counts()"
   ]
  },
  {
   "cell_type": "markdown",
   "id": "1f434519",
   "metadata": {},
   "source": [
    "### **Reducing the number of categories within specific feature to reduce the possibility of overfitting**"
   ]
  },
  {
   "cell_type": "code",
   "execution_count": 19,
   "id": "3a8373d9",
   "metadata": {},
   "outputs": [],
   "source": [
    "# Education category:\n",
    "df['education'] = df['education'].replace({'Preschool':'pry school', \n",
    "                                           '1st-4th':'pry school', \n",
    "                                           '5th-6th':'pry school', \n",
    "                                           '7th-8th':'pry school', \n",
    "                                           '9th':'pry school', \n",
    "                                           '10th':'pry school', \n",
    "                                           '11th':'pry school', \n",
    "                                           '12th': 'pry school', \n",
    "                                           'HS-grad': 'high school', \n",
    "                                           'Assoc-voc': 'undergrad', \n",
    "                                           'Assoc-acdm': 'undergrad', \n",
    "                                           'Prof-school': 'undergrad', \n",
    "                                           'Some-college': 'undergrad', \n",
    "                                           'Bachelors' : 'grad', \n",
    "                                           'Masters' : 'post grad', \n",
    "                                           'Doctorate' : 'doc'})\n",
    "\n",
    "# marital status category:\n",
    "df['marital'] = df['marital'].replace({'Never-married': 'single', \n",
    "                                       'Married-civ-spouse': 'married', \n",
    "                                       'Married-AF-spouse': 'married', \n",
    "                                       'Married-spouse-absent': 'other', \n",
    "                                       'Divorced': 'other', \n",
    "                                       'Widowed': 'other'})\n",
    "\n",
    "# income category:\n",
    "df['income'] = df['income'].replace({'<=50K': 0, '>50K': 1})"
   ]
  },
  {
   "cell_type": "code",
   "execution_count": 20,
   "id": "7cd986e8",
   "metadata": {},
   "outputs": [
    {
     "data": {
      "text/plain": [
       "high school    15784\n",
       "undergrad      15374\n",
       "grad            8025\n",
       "pry school      6408\n",
       "post grad       2657\n",
       "doc              594\n",
       "Name: education, dtype: int64"
      ]
     },
     "execution_count": 20,
     "metadata": {},
     "output_type": "execute_result"
    }
   ],
   "source": [
    "df.education.value_counts()"
   ]
  },
  {
   "cell_type": "code",
   "execution_count": 21,
   "id": "0b9a7dfb",
   "metadata": {},
   "outputs": [
    {
     "data": {
      "text/html": [
       "<div>\n",
       "<style scoped>\n",
       "    .dataframe tbody tr th:only-of-type {\n",
       "        vertical-align: middle;\n",
       "    }\n",
       "\n",
       "    .dataframe tbody tr th {\n",
       "        vertical-align: top;\n",
       "    }\n",
       "\n",
       "    .dataframe thead th {\n",
       "        text-align: right;\n",
       "    }\n",
       "</style>\n",
       "<table border=\"1\" class=\"dataframe\">\n",
       "  <thead>\n",
       "    <tr style=\"text-align: right;\">\n",
       "      <th></th>\n",
       "      <th>age</th>\n",
       "      <th>fnlwgt</th>\n",
       "      <th>edu_num</th>\n",
       "      <th>gain</th>\n",
       "      <th>loss</th>\n",
       "      <th>hrs\\wk</th>\n",
       "      <th>income</th>\n",
       "    </tr>\n",
       "  </thead>\n",
       "  <tbody>\n",
       "    <tr>\n",
       "      <th>age</th>\n",
       "      <td>1.000000</td>\n",
       "      <td>-0.076628</td>\n",
       "      <td>0.030940</td>\n",
       "      <td>0.077229</td>\n",
       "      <td>0.056944</td>\n",
       "      <td>0.071558</td>\n",
       "      <td>0.230369</td>\n",
       "    </tr>\n",
       "    <tr>\n",
       "      <th>fnlwgt</th>\n",
       "      <td>-0.076628</td>\n",
       "      <td>1.000000</td>\n",
       "      <td>-0.038761</td>\n",
       "      <td>-0.003706</td>\n",
       "      <td>-0.004366</td>\n",
       "      <td>-0.013519</td>\n",
       "      <td>-0.006339</td>\n",
       "    </tr>\n",
       "    <tr>\n",
       "      <th>edu_num</th>\n",
       "      <td>0.030940</td>\n",
       "      <td>-0.038761</td>\n",
       "      <td>1.000000</td>\n",
       "      <td>0.125146</td>\n",
       "      <td>0.080972</td>\n",
       "      <td>0.143689</td>\n",
       "      <td>0.332613</td>\n",
       "    </tr>\n",
       "    <tr>\n",
       "      <th>gain</th>\n",
       "      <td>0.077229</td>\n",
       "      <td>-0.003706</td>\n",
       "      <td>0.125146</td>\n",
       "      <td>1.000000</td>\n",
       "      <td>-0.031441</td>\n",
       "      <td>0.082157</td>\n",
       "      <td>0.223013</td>\n",
       "    </tr>\n",
       "    <tr>\n",
       "      <th>loss</th>\n",
       "      <td>0.056944</td>\n",
       "      <td>-0.004366</td>\n",
       "      <td>0.080972</td>\n",
       "      <td>-0.031441</td>\n",
       "      <td>1.000000</td>\n",
       "      <td>0.054467</td>\n",
       "      <td>0.147554</td>\n",
       "    </tr>\n",
       "    <tr>\n",
       "      <th>hrs\\wk</th>\n",
       "      <td>0.071558</td>\n",
       "      <td>-0.013519</td>\n",
       "      <td>0.143689</td>\n",
       "      <td>0.082157</td>\n",
       "      <td>0.054467</td>\n",
       "      <td>1.000000</td>\n",
       "      <td>0.227687</td>\n",
       "    </tr>\n",
       "    <tr>\n",
       "      <th>income</th>\n",
       "      <td>0.230369</td>\n",
       "      <td>-0.006339</td>\n",
       "      <td>0.332613</td>\n",
       "      <td>0.223013</td>\n",
       "      <td>0.147554</td>\n",
       "      <td>0.227687</td>\n",
       "      <td>1.000000</td>\n",
       "    </tr>\n",
       "  </tbody>\n",
       "</table>\n",
       "</div>"
      ],
      "text/plain": [
       "              age    fnlwgt   edu_num      gain      loss    hrs\\wk    income\n",
       "age      1.000000 -0.076628  0.030940  0.077229  0.056944  0.071558  0.230369\n",
       "fnlwgt  -0.076628  1.000000 -0.038761 -0.003706 -0.004366 -0.013519 -0.006339\n",
       "edu_num  0.030940 -0.038761  1.000000  0.125146  0.080972  0.143689  0.332613\n",
       "gain     0.077229 -0.003706  0.125146  1.000000 -0.031441  0.082157  0.223013\n",
       "loss     0.056944 -0.004366  0.080972 -0.031441  1.000000  0.054467  0.147554\n",
       "hrs\\wk   0.071558 -0.013519  0.143689  0.082157  0.054467  1.000000  0.227687\n",
       "income   0.230369 -0.006339  0.332613  0.223013  0.147554  0.227687  1.000000"
      ]
     },
     "execution_count": 21,
     "metadata": {},
     "output_type": "execute_result"
    }
   ],
   "source": [
    "# computing the correlation matrix:\n",
    "corr_matrix = df.corr()\n",
    "\n",
    "corr_matrix   # displaying the corelation matrix"
   ]
  },
  {
   "cell_type": "code",
   "execution_count": 22,
   "id": "68a212a6",
   "metadata": {},
   "outputs": [
    {
     "data": {
      "image/png": "[encoded data removed]",
      "text/plain": [
       "<Figure size 504x360 with 2 Axes>"
      ]
     },
     "metadata": {
      "needs_background": "light"
     },
     "output_type": "display_data"
    }
   ],
   "source": [
    "# visualizing the correlation matrix:\n",
    "plt.figure(figsize=(7, 5))\n",
    "sns.heatmap(corr_matrix, annot=True, cmap='coolwarm', fmt='.2g', center=0);"
   ]
  },
  {
   "cell_type": "code",
   "execution_count": 23,
   "id": "9d6cd6e3",
   "metadata": {},
   "outputs": [
    {
     "data": {
      "image/png": "[encoded data removed]",
      "text/plain": [
       "<Figure size 864x864 with 9 Axes>"
      ]
     },
     "metadata": {
      "needs_background": "light"
     },
     "output_type": "display_data"
    }
   ],
   "source": [
    "# ploting histogram to visualize the correlation of each numeric feature:\n",
    "\n",
    "df.hist(figsize=(12,12), layout=(3,3), sharex=False);\n",
    "plt.suptitle('Histogram For Each Feature')\n",
    "plt.show()"
   ]
  },
  {
   "cell_type": "code",
   "execution_count": 24,
   "id": "519e05dc",
   "metadata": {},
   "outputs": [
    {
     "data": {
      "text/plain": [
       "Text(0.5, 1.0, 'Box Plot For Each Feature')"
      ]
     },
     "execution_count": 24,
     "metadata": {},
     "output_type": "execute_result"
    },
    {
     "data": {
      "image/png": "[encoded data removed]",
      "text/plain": [
       "<Figure size 864x432 with 1 Axes>"
      ]
     },
     "metadata": {
      "needs_background": "light"
     },
     "output_type": "display_data"
    }
   ],
   "source": [
    "# plotting box plot to spot the outliers:\n",
    "\n",
    "plt.figure(figsize=(12, 6))\n",
    "sns.boxplot(data=df)\n",
    "plt.title('Box Plot For Each Feature')"
   ]
  },
  {
   "cell_type": "code",
   "execution_count": 25,
   "id": "f1e95008",
   "metadata": {},
   "outputs": [
    {
     "data": {
      "image/png": "[encoded data removed]",
      "text/plain": [
       "<Figure size 864x864 with 9 Axes>"
      ]
     },
     "metadata": {
      "needs_background": "light"
     },
     "output_type": "display_data"
    }
   ],
   "source": [
    "# box plot showing outliers:\n",
    "\n",
    "df.plot(kind='box', figsize=(12,12), layout=(3,3), sharex=False, subplots=True);"
   ]
  },
  {
   "cell_type": "code",
   "execution_count": 26,
   "id": "a4a2f863",
   "metadata": {},
   "outputs": [
    {
     "data": {
      "image/png": "[encoded data removed]",
      "text/plain": [
       "<Figure size 432x288 with 1 Axes>"
      ]
     },
     "metadata": {
      "needs_background": "light"
     },
     "output_type": "display_data"
    }
   ],
   "source": [
    "# countplot showing relationship between race and income:\n",
    "\n",
    "sns.countplot(df['race'], hue='income', data=df, palette='magma');"
   ]
  },
  {
   "cell_type": "code",
   "execution_count": 27,
   "id": "105df7de",
   "metadata": {},
   "outputs": [
    {
     "data": {
      "image/png": "[encoded data removed]",
      "text/plain": [
       "<Figure size 432x288 with 1 Axes>"
      ]
     },
     "metadata": {
      "needs_background": "light"
     },
     "output_type": "display_data"
    }
   ],
   "source": [
    "# countplot showing relationship between education and income:\n",
    "\n",
    "sns.countplot(df['education'], hue='income', data=df, palette='seismic');"
   ]
  },
  {
   "cell_type": "code",
   "execution_count": 28,
   "id": "598f34ab",
   "metadata": {},
   "outputs": [
    {
     "name": "stdout",
     "output_type": "stream",
     "text": [
      "age               0\n",
      "workclass       963\n",
      "fnlwgt            0\n",
      "education         0\n",
      "edu_num           0\n",
      "marital           0\n",
      "occupation      966\n",
      "relationship      0\n",
      "race              0\n",
      "sex               0\n",
      "gain              0\n",
      "loss              0\n",
      "hrs\\wk            0\n",
      "nativity        274\n",
      "income            0\n",
      "dtype: int64\n",
      "\n",
      "There are 2203 missing values in the dataset\n"
     ]
    }
   ],
   "source": [
    "# Checking for missing values:\n",
    "\n",
    "print(df.isnull().sum())\n",
    "print(f\"\\nThere are {df.isnull().sum().sum()} missing values in the dataset\")  "
   ]
  },
  {
   "cell_type": "code",
   "execution_count": 29,
   "id": "ebdbc17f",
   "metadata": {},
   "outputs": [
    {
     "data": {
      "text/plain": [
       "SimpleImputer(strategy='most_frequent')"
      ]
     },
     "execution_count": 29,
     "metadata": {},
     "output_type": "execute_result"
    }
   ],
   "source": [
    "# Creating an instance for SimpleImputer:\n",
    "imputer = SimpleImputer(strategy = 'most_frequent')\n",
    "\n",
    "imputer"
   ]
  },
  {
   "cell_type": "code",
   "execution_count": 30,
   "id": "4c0b4505",
   "metadata": {},
   "outputs": [],
   "source": [
    "# Removing the missing values:\n",
    "\n",
    "imputer = SimpleImputer(strategy = 'most_frequent')\n",
    "\n",
    "# creating variable for the features to be imputed:\n",
    "cols_to_impute = [\"workclass\", \"occupation\", \"nativity\"]\n",
    "\n",
    "# imputing the features with their mode respectively: \n",
    "df[cols_to_impute] = imputer.fit_transform(df[cols_to_impute])\n",
    "\n",
    "# Creating a dataframe from the imputed_data:\n",
    "\n",
    "imputed_df = pd.DataFrame(df[cols_to_impute], columns = cols_to_impute)\n",
    "\n",
    "# Replacing the original features with the new imputed_data:\n",
    "df[cols_to_impute] = imputed_df"
   ]
  },
  {
   "cell_type": "code",
   "execution_count": 31,
   "id": "de2071e1",
   "metadata": {},
   "outputs": [
    {
     "data": {
      "text/html": [
       "<div>\n",
       "<style scoped>\n",
       "    .dataframe tbody tr th:only-of-type {\n",
       "        vertical-align: middle;\n",
       "    }\n",
       "\n",
       "    .dataframe tbody tr th {\n",
       "        vertical-align: top;\n",
       "    }\n",
       "\n",
       "    .dataframe thead th {\n",
       "        text-align: right;\n",
       "    }\n",
       "</style>\n",
       "<table border=\"1\" class=\"dataframe\">\n",
       "  <thead>\n",
       "    <tr style=\"text-align: right;\">\n",
       "      <th></th>\n",
       "      <th>age</th>\n",
       "      <th>workclass</th>\n",
       "      <th>fnlwgt</th>\n",
       "      <th>education</th>\n",
       "      <th>edu_num</th>\n",
       "      <th>marital</th>\n",
       "      <th>occupation</th>\n",
       "      <th>relationship</th>\n",
       "      <th>race</th>\n",
       "      <th>sex</th>\n",
       "      <th>gain</th>\n",
       "      <th>loss</th>\n",
       "      <th>hrs\\wk</th>\n",
       "      <th>nativity</th>\n",
       "      <th>income</th>\n",
       "    </tr>\n",
       "  </thead>\n",
       "  <tbody>\n",
       "    <tr>\n",
       "      <th>0</th>\n",
       "      <td>39</td>\n",
       "      <td>State-gov</td>\n",
       "      <td>77516</td>\n",
       "      <td>grad</td>\n",
       "      <td>13</td>\n",
       "      <td>single</td>\n",
       "      <td>Adm-clerical</td>\n",
       "      <td>Not-in-family</td>\n",
       "      <td>White</td>\n",
       "      <td>Male</td>\n",
       "      <td>2174</td>\n",
       "      <td>0</td>\n",
       "      <td>40</td>\n",
       "      <td>United-States</td>\n",
       "      <td>0</td>\n",
       "    </tr>\n",
       "    <tr>\n",
       "      <th>1</th>\n",
       "      <td>50</td>\n",
       "      <td>Self-emp-not-inc</td>\n",
       "      <td>83311</td>\n",
       "      <td>grad</td>\n",
       "      <td>13</td>\n",
       "      <td>married</td>\n",
       "      <td>Exec-managerial</td>\n",
       "      <td>Husband</td>\n",
       "      <td>White</td>\n",
       "      <td>Male</td>\n",
       "      <td>0</td>\n",
       "      <td>0</td>\n",
       "      <td>13</td>\n",
       "      <td>United-States</td>\n",
       "      <td>0</td>\n",
       "    </tr>\n",
       "    <tr>\n",
       "      <th>2</th>\n",
       "      <td>38</td>\n",
       "      <td>Private</td>\n",
       "      <td>215646</td>\n",
       "      <td>high school</td>\n",
       "      <td>9</td>\n",
       "      <td>other</td>\n",
       "      <td>Handlers-cleaners</td>\n",
       "      <td>Not-in-family</td>\n",
       "      <td>White</td>\n",
       "      <td>Male</td>\n",
       "      <td>0</td>\n",
       "      <td>0</td>\n",
       "      <td>40</td>\n",
       "      <td>United-States</td>\n",
       "      <td>0</td>\n",
       "    </tr>\n",
       "    <tr>\n",
       "      <th>3</th>\n",
       "      <td>53</td>\n",
       "      <td>Private</td>\n",
       "      <td>234721</td>\n",
       "      <td>pry school</td>\n",
       "      <td>7</td>\n",
       "      <td>married</td>\n",
       "      <td>Handlers-cleaners</td>\n",
       "      <td>Husband</td>\n",
       "      <td>Black</td>\n",
       "      <td>Male</td>\n",
       "      <td>0</td>\n",
       "      <td>0</td>\n",
       "      <td>40</td>\n",
       "      <td>United-States</td>\n",
       "      <td>0</td>\n",
       "    </tr>\n",
       "    <tr>\n",
       "      <th>4</th>\n",
       "      <td>28</td>\n",
       "      <td>Private</td>\n",
       "      <td>338409</td>\n",
       "      <td>grad</td>\n",
       "      <td>13</td>\n",
       "      <td>married</td>\n",
       "      <td>Prof-specialty</td>\n",
       "      <td>Wife</td>\n",
       "      <td>Black</td>\n",
       "      <td>Female</td>\n",
       "      <td>0</td>\n",
       "      <td>0</td>\n",
       "      <td>40</td>\n",
       "      <td>Cuba</td>\n",
       "      <td>0</td>\n",
       "    </tr>\n",
       "    <tr>\n",
       "      <th>...</th>\n",
       "      <td>...</td>\n",
       "      <td>...</td>\n",
       "      <td>...</td>\n",
       "      <td>...</td>\n",
       "      <td>...</td>\n",
       "      <td>...</td>\n",
       "      <td>...</td>\n",
       "      <td>...</td>\n",
       "      <td>...</td>\n",
       "      <td>...</td>\n",
       "      <td>...</td>\n",
       "      <td>...</td>\n",
       "      <td>...</td>\n",
       "      <td>...</td>\n",
       "      <td>...</td>\n",
       "    </tr>\n",
       "    <tr>\n",
       "      <th>48837</th>\n",
       "      <td>39</td>\n",
       "      <td>Private</td>\n",
       "      <td>215419</td>\n",
       "      <td>grad</td>\n",
       "      <td>13</td>\n",
       "      <td>other</td>\n",
       "      <td>Prof-specialty</td>\n",
       "      <td>Not-in-family</td>\n",
       "      <td>White</td>\n",
       "      <td>Female</td>\n",
       "      <td>0</td>\n",
       "      <td>0</td>\n",
       "      <td>36</td>\n",
       "      <td>United-States</td>\n",
       "      <td>0</td>\n",
       "    </tr>\n",
       "    <tr>\n",
       "      <th>48838</th>\n",
       "      <td>64</td>\n",
       "      <td>Private</td>\n",
       "      <td>321403</td>\n",
       "      <td>high school</td>\n",
       "      <td>9</td>\n",
       "      <td>other</td>\n",
       "      <td>Prof-specialty</td>\n",
       "      <td>Other-relative</td>\n",
       "      <td>Black</td>\n",
       "      <td>Male</td>\n",
       "      <td>0</td>\n",
       "      <td>0</td>\n",
       "      <td>40</td>\n",
       "      <td>United-States</td>\n",
       "      <td>0</td>\n",
       "    </tr>\n",
       "    <tr>\n",
       "      <th>48839</th>\n",
       "      <td>38</td>\n",
       "      <td>Private</td>\n",
       "      <td>374983</td>\n",
       "      <td>grad</td>\n",
       "      <td>13</td>\n",
       "      <td>married</td>\n",
       "      <td>Prof-specialty</td>\n",
       "      <td>Husband</td>\n",
       "      <td>White</td>\n",
       "      <td>Male</td>\n",
       "      <td>0</td>\n",
       "      <td>0</td>\n",
       "      <td>50</td>\n",
       "      <td>United-States</td>\n",
       "      <td>0</td>\n",
       "    </tr>\n",
       "    <tr>\n",
       "      <th>48840</th>\n",
       "      <td>44</td>\n",
       "      <td>Private</td>\n",
       "      <td>83891</td>\n",
       "      <td>grad</td>\n",
       "      <td>13</td>\n",
       "      <td>other</td>\n",
       "      <td>Adm-clerical</td>\n",
       "      <td>Own-child</td>\n",
       "      <td>Asian-Pac-Islander</td>\n",
       "      <td>Male</td>\n",
       "      <td>5455</td>\n",
       "      <td>0</td>\n",
       "      <td>40</td>\n",
       "      <td>United-States</td>\n",
       "      <td>0</td>\n",
       "    </tr>\n",
       "    <tr>\n",
       "      <th>48841</th>\n",
       "      <td>35</td>\n",
       "      <td>Self-emp-inc</td>\n",
       "      <td>182148</td>\n",
       "      <td>grad</td>\n",
       "      <td>13</td>\n",
       "      <td>married</td>\n",
       "      <td>Exec-managerial</td>\n",
       "      <td>Husband</td>\n",
       "      <td>White</td>\n",
       "      <td>Male</td>\n",
       "      <td>0</td>\n",
       "      <td>0</td>\n",
       "      <td>60</td>\n",
       "      <td>United-States</td>\n",
       "      <td>1</td>\n",
       "    </tr>\n",
       "  </tbody>\n",
       "</table>\n",
       "<p>48842 rows × 15 columns</p>\n",
       "</div>"
      ],
      "text/plain": [
       "       age         workclass  fnlwgt    education  edu_num  marital  \\\n",
       "0       39         State-gov   77516         grad       13   single   \n",
       "1       50  Self-emp-not-inc   83311         grad       13  married   \n",
       "2       38           Private  215646  high school        9    other   \n",
       "3       53           Private  234721   pry school        7  married   \n",
       "4       28           Private  338409         grad       13  married   \n",
       "...    ...               ...     ...          ...      ...      ...   \n",
       "48837   39           Private  215419         grad       13    other   \n",
       "48838   64           Private  321403  high school        9    other   \n",
       "48839   38           Private  374983         grad       13  married   \n",
       "48840   44           Private   83891         grad       13    other   \n",
       "48841   35      Self-emp-inc  182148         grad       13  married   \n",
       "\n",
       "              occupation    relationship                race     sex  gain  \\\n",
       "0           Adm-clerical   Not-in-family               White    Male  2174   \n",
       "1        Exec-managerial         Husband               White    Male     0   \n",
       "2      Handlers-cleaners   Not-in-family               White    Male     0   \n",
       "3      Handlers-cleaners         Husband               Black    Male     0   \n",
       "4         Prof-specialty            Wife               Black  Female     0   \n",
       "...                  ...             ...                 ...     ...   ...   \n",
       "48837     Prof-specialty   Not-in-family               White  Female     0   \n",
       "48838     Prof-specialty  Other-relative               Black    Male     0   \n",
       "48839     Prof-specialty         Husband               White    Male     0   \n",
       "48840       Adm-clerical       Own-child  Asian-Pac-Islander    Male  5455   \n",
       "48841    Exec-managerial         Husband               White    Male     0   \n",
       "\n",
       "       loss  hrs\\wk       nativity  income  \n",
       "0         0      40  United-States       0  \n",
       "1         0      13  United-States       0  \n",
       "2         0      40  United-States       0  \n",
       "3         0      40  United-States       0  \n",
       "4         0      40           Cuba       0  \n",
       "...     ...     ...            ...     ...  \n",
       "48837     0      36  United-States       0  \n",
       "48838     0      40  United-States       0  \n",
       "48839     0      50  United-States       0  \n",
       "48840     0      40  United-States       0  \n",
       "48841     0      60  United-States       1  \n",
       "\n",
       "[48842 rows x 15 columns]"
      ]
     },
     "metadata": {},
     "output_type": "display_data"
    }
   ],
   "source": [
    "# displaying the resulting dataframe, free of missing values:\n",
    "display(df)"
   ]
  },
  {
   "cell_type": "code",
   "execution_count": 32,
   "id": "9b468361",
   "metadata": {},
   "outputs": [
    {
     "name": "stdout",
     "output_type": "stream",
     "text": [
      "There are 53 duplicate values in the dataset\n"
     ]
    }
   ],
   "source": [
    "# Checking for duplicate values:\n",
    "\n",
    "dup_val = df.duplicated().sum()\n",
    "if dup_val == 0:\n",
    "    print(\"There are no duplicate values in the dataset\")\n",
    "else:\n",
    "    print(f\"There are {df.duplicated().sum()} duplicate values in the dataset\")   "
   ]
  },
  {
   "cell_type": "code",
   "execution_count": 33,
   "id": "f2d80c12",
   "metadata": {},
   "outputs": [
    {
     "name": "stdout",
     "output_type": "stream",
     "text": [
      "The new shape after the duplicate values have been removed is: (48789, 15)\n"
     ]
    }
   ],
   "source": [
    "# Removing the duplicate values:\n",
    "df = df.drop_duplicates()\n",
    "\n",
    "# checking the new shape:\n",
    "print(f\"The new shape after the duplicate values have been removed is: {df.shape}\")"
   ]
  },
  {
   "cell_type": "code",
   "execution_count": 34,
   "id": "90d23a3e",
   "metadata": {},
   "outputs": [
    {
     "data": {
      "text/plain": [
       "0"
      ]
     },
     "execution_count": 34,
     "metadata": {},
     "output_type": "execute_result"
    }
   ],
   "source": [
    "df.duplicated().sum()"
   ]
  },
  {
   "cell_type": "code",
   "execution_count": 35,
   "id": "338a3c4c",
   "metadata": {},
   "outputs": [
    {
     "name": "stdout",
     "output_type": "stream",
     "text": [
      "Dataset is clean and ready for training\n"
     ]
    }
   ],
   "source": [
    "data_state = df.isnull().sum().sum() + df.duplicated().sum()\n",
    "\n",
    "if data_state == 0:\n",
    "    print(\"Dataset is clean and ready for training\")\n",
    "else:\n",
    "    print(\"Dataset is still dirty and not ready\")"
   ]
  },
  {
   "cell_type": "markdown",
   "id": "475ebb0b",
   "metadata": {},
   "source": [
    "### **Insights:**\n",
    "\n",
    "1. Exploring the dataset I found out that the dataset is a csv file containing census data on the income of the populace.\n",
    "\n",
    "\n",
    "2. The income distribution ploted above reveals that the dataset in not balanced. because we have more people in the population whose income is less than or equal to 50k per year.\n",
    "\n",
    "\n",
    "3. The dataset is not clean at all. Using the value_counts() method on the categorical variables, I discovered that some of the categories have null  column name represented by '?' . I fixed the issue by filling them with the mode of the column.\n",
    "\n",
    "\n",
    "4. The dataset have 2203 missing values and 53 duplicate values in total.\n",
    "\n",
    "\n",
    "5. There are outliers in the dataset but the machine algorithm deployed in this project will take care of them as Random Forest model is not too sensitive or easily influenced by it.\n",
    "\n",
    "\n",
    "6. The correlation matrix reveals that the features are not too correlated with one another. but there are some that are strongly correlated with the income."
   ]
  },
  {
   "cell_type": "markdown",
   "id": "7404faf8",
   "metadata": {},
   "source": [
    "## **Dropping irrelevant features**"
   ]
  },
  {
   "cell_type": "markdown",
   "id": "b46f3034",
   "metadata": {},
   "source": [
    "### The fnlwgt column and the education_num column must be dropped\n",
    "\n",
    "### Reason:\n",
    "1. The fnlwgt which is also called the final weight is used to calculate the weighted average of a particular underrepresented group in the population during census, and it does not directly influence a person's income.\n",
    "\n",
    "2. While I was exploring the dataset, I discovered that the \"education-num\" feature is the the encoded version of the education feature. Since the \"education\" feature itself has been encoded, there is no need to have two different columns with the same values. hence, the need to drop the education_num feature. I did this to reduce the possibility of having overfitting problem later."
   ]
  },
  {
   "cell_type": "code",
   "execution_count": 36,
   "id": "9c94f69f",
   "metadata": {},
   "outputs": [
    {
     "data": {
      "text/html": [
       "<div>\n",
       "<style scoped>\n",
       "    .dataframe tbody tr th:only-of-type {\n",
       "        vertical-align: middle;\n",
       "    }\n",
       "\n",
       "    .dataframe tbody tr th {\n",
       "        vertical-align: top;\n",
       "    }\n",
       "\n",
       "    .dataframe thead th {\n",
       "        text-align: right;\n",
       "    }\n",
       "</style>\n",
       "<table border=\"1\" class=\"dataframe\">\n",
       "  <thead>\n",
       "    <tr style=\"text-align: right;\">\n",
       "      <th></th>\n",
       "      <th>age</th>\n",
       "      <th>workclass</th>\n",
       "      <th>fnlwgt</th>\n",
       "      <th>education</th>\n",
       "      <th>edu_num</th>\n",
       "      <th>marital</th>\n",
       "      <th>occupation</th>\n",
       "      <th>relationship</th>\n",
       "      <th>race</th>\n",
       "      <th>sex</th>\n",
       "      <th>gain</th>\n",
       "      <th>loss</th>\n",
       "      <th>hrs\\wk</th>\n",
       "      <th>nativity</th>\n",
       "      <th>income</th>\n",
       "    </tr>\n",
       "  </thead>\n",
       "  <tbody>\n",
       "    <tr>\n",
       "      <th>0</th>\n",
       "      <td>39</td>\n",
       "      <td>State-gov</td>\n",
       "      <td>77516</td>\n",
       "      <td>grad</td>\n",
       "      <td>13</td>\n",
       "      <td>single</td>\n",
       "      <td>Adm-clerical</td>\n",
       "      <td>Not-in-family</td>\n",
       "      <td>White</td>\n",
       "      <td>Male</td>\n",
       "      <td>2174</td>\n",
       "      <td>0</td>\n",
       "      <td>40</td>\n",
       "      <td>United-States</td>\n",
       "      <td>0</td>\n",
       "    </tr>\n",
       "    <tr>\n",
       "      <th>1</th>\n",
       "      <td>50</td>\n",
       "      <td>Self-emp-not-inc</td>\n",
       "      <td>83311</td>\n",
       "      <td>grad</td>\n",
       "      <td>13</td>\n",
       "      <td>married</td>\n",
       "      <td>Exec-managerial</td>\n",
       "      <td>Husband</td>\n",
       "      <td>White</td>\n",
       "      <td>Male</td>\n",
       "      <td>0</td>\n",
       "      <td>0</td>\n",
       "      <td>13</td>\n",
       "      <td>United-States</td>\n",
       "      <td>0</td>\n",
       "    </tr>\n",
       "    <tr>\n",
       "      <th>2</th>\n",
       "      <td>38</td>\n",
       "      <td>Private</td>\n",
       "      <td>215646</td>\n",
       "      <td>high school</td>\n",
       "      <td>9</td>\n",
       "      <td>other</td>\n",
       "      <td>Handlers-cleaners</td>\n",
       "      <td>Not-in-family</td>\n",
       "      <td>White</td>\n",
       "      <td>Male</td>\n",
       "      <td>0</td>\n",
       "      <td>0</td>\n",
       "      <td>40</td>\n",
       "      <td>United-States</td>\n",
       "      <td>0</td>\n",
       "    </tr>\n",
       "    <tr>\n",
       "      <th>3</th>\n",
       "      <td>53</td>\n",
       "      <td>Private</td>\n",
       "      <td>234721</td>\n",
       "      <td>pry school</td>\n",
       "      <td>7</td>\n",
       "      <td>married</td>\n",
       "      <td>Handlers-cleaners</td>\n",
       "      <td>Husband</td>\n",
       "      <td>Black</td>\n",
       "      <td>Male</td>\n",
       "      <td>0</td>\n",
       "      <td>0</td>\n",
       "      <td>40</td>\n",
       "      <td>United-States</td>\n",
       "      <td>0</td>\n",
       "    </tr>\n",
       "    <tr>\n",
       "      <th>4</th>\n",
       "      <td>28</td>\n",
       "      <td>Private</td>\n",
       "      <td>338409</td>\n",
       "      <td>grad</td>\n",
       "      <td>13</td>\n",
       "      <td>married</td>\n",
       "      <td>Prof-specialty</td>\n",
       "      <td>Wife</td>\n",
       "      <td>Black</td>\n",
       "      <td>Female</td>\n",
       "      <td>0</td>\n",
       "      <td>0</td>\n",
       "      <td>40</td>\n",
       "      <td>Cuba</td>\n",
       "      <td>0</td>\n",
       "    </tr>\n",
       "  </tbody>\n",
       "</table>\n",
       "</div>"
      ],
      "text/plain": [
       "   age         workclass  fnlwgt    education  edu_num  marital  \\\n",
       "0   39         State-gov   77516         grad       13   single   \n",
       "1   50  Self-emp-not-inc   83311         grad       13  married   \n",
       "2   38           Private  215646  high school        9    other   \n",
       "3   53           Private  234721   pry school        7  married   \n",
       "4   28           Private  338409         grad       13  married   \n",
       "\n",
       "          occupation   relationship   race     sex  gain  loss  hrs\\wk  \\\n",
       "0       Adm-clerical  Not-in-family  White    Male  2174     0      40   \n",
       "1    Exec-managerial        Husband  White    Male     0     0      13   \n",
       "2  Handlers-cleaners  Not-in-family  White    Male     0     0      40   \n",
       "3  Handlers-cleaners        Husband  Black    Male     0     0      40   \n",
       "4     Prof-specialty           Wife  Black  Female     0     0      40   \n",
       "\n",
       "        nativity  income  \n",
       "0  United-States       0  \n",
       "1  United-States       0  \n",
       "2  United-States       0  \n",
       "3  United-States       0  \n",
       "4           Cuba       0  "
      ]
     },
     "execution_count": 36,
     "metadata": {},
     "output_type": "execute_result"
    }
   ],
   "source": [
    "# cheking the dataset\n",
    "df.head()"
   ]
  },
  {
   "cell_type": "code",
   "execution_count": 37,
   "id": "4c5f42a3",
   "metadata": {},
   "outputs": [
    {
     "data": {
      "text/plain": [
       "(48789, 15)"
      ]
     },
     "execution_count": 37,
     "metadata": {},
     "output_type": "execute_result"
    }
   ],
   "source": [
    "# revealing the shape:\n",
    "df.shape"
   ]
  },
  {
   "cell_type": "code",
   "execution_count": 38,
   "id": "b29eded4",
   "metadata": {},
   "outputs": [],
   "source": [
    "# dropping the irrelevant features:\n",
    "cols_to_drop = [\"fnlwgt\", \"edu_num\"]\n",
    "\n",
    "df = df.drop(columns = cols_to_drop)"
   ]
  },
  {
   "cell_type": "code",
   "execution_count": 39,
   "id": "aa38686e",
   "metadata": {},
   "outputs": [
    {
     "data": {
      "text/plain": [
       "Index(['age', 'workclass', 'education', 'marital', 'occupation',\n",
       "       'relationship', 'race', 'sex', 'gain', 'loss', 'hrs\\wk', 'nativity',\n",
       "       'income'],\n",
       "      dtype='object')"
      ]
     },
     "execution_count": 39,
     "metadata": {},
     "output_type": "execute_result"
    }
   ],
   "source": [
    "# recheking the dataset after dropping the irrelevant features\n",
    "df.head()\n",
    "df.columns"
   ]
  },
  {
   "cell_type": "code",
   "execution_count": 40,
   "id": "99aa32ec",
   "metadata": {},
   "outputs": [],
   "source": [
    "# Labeling Encoding of the categorical variables:\n",
    "\n",
    "le = LabelEncoder()\n",
    "\n",
    "df['workclass'] = le.fit_transform(df['workclass'])\n",
    "df['education'] = le.fit_transform(df['education'])\n",
    "df['marital'] = le.fit_transform(df['marital'])\n",
    "df['occupation'] = le.fit_transform(df['occupation'])\n",
    "df['relationship'] = le.fit_transform(df['relationship'])\n",
    "df['race'] = le.fit_transform(df['race'])\n",
    "df['sex'] = le.fit_transform(df['sex'])\n",
    "df['nativity'] = le.fit_transform(df['nativity'])"
   ]
  },
  {
   "cell_type": "code",
   "execution_count": 41,
   "id": "5d1a40f5",
   "metadata": {},
   "outputs": [
    {
     "data": {
      "text/html": [
       "<div>\n",
       "<style scoped>\n",
       "    .dataframe tbody tr th:only-of-type {\n",
       "        vertical-align: middle;\n",
       "    }\n",
       "\n",
       "    .dataframe tbody tr th {\n",
       "        vertical-align: top;\n",
       "    }\n",
       "\n",
       "    .dataframe thead th {\n",
       "        text-align: right;\n",
       "    }\n",
       "</style>\n",
       "<table border=\"1\" class=\"dataframe\">\n",
       "  <thead>\n",
       "    <tr style=\"text-align: right;\">\n",
       "      <th></th>\n",
       "      <th>age</th>\n",
       "      <th>workclass</th>\n",
       "      <th>education</th>\n",
       "      <th>marital</th>\n",
       "      <th>occupation</th>\n",
       "      <th>relationship</th>\n",
       "      <th>race</th>\n",
       "      <th>sex</th>\n",
       "      <th>gain</th>\n",
       "      <th>loss</th>\n",
       "      <th>hrs\\wk</th>\n",
       "      <th>nativity</th>\n",
       "      <th>income</th>\n",
       "    </tr>\n",
       "  </thead>\n",
       "  <tbody>\n",
       "    <tr>\n",
       "      <th>0</th>\n",
       "      <td>39</td>\n",
       "      <td>6</td>\n",
       "      <td>1</td>\n",
       "      <td>3</td>\n",
       "      <td>0</td>\n",
       "      <td>1</td>\n",
       "      <td>4</td>\n",
       "      <td>1</td>\n",
       "      <td>2174</td>\n",
       "      <td>0</td>\n",
       "      <td>40</td>\n",
       "      <td>38</td>\n",
       "      <td>0</td>\n",
       "    </tr>\n",
       "    <tr>\n",
       "      <th>1</th>\n",
       "      <td>50</td>\n",
       "      <td>5</td>\n",
       "      <td>1</td>\n",
       "      <td>1</td>\n",
       "      <td>3</td>\n",
       "      <td>0</td>\n",
       "      <td>4</td>\n",
       "      <td>1</td>\n",
       "      <td>0</td>\n",
       "      <td>0</td>\n",
       "      <td>13</td>\n",
       "      <td>38</td>\n",
       "      <td>0</td>\n",
       "    </tr>\n",
       "    <tr>\n",
       "      <th>2</th>\n",
       "      <td>38</td>\n",
       "      <td>3</td>\n",
       "      <td>2</td>\n",
       "      <td>2</td>\n",
       "      <td>5</td>\n",
       "      <td>1</td>\n",
       "      <td>4</td>\n",
       "      <td>1</td>\n",
       "      <td>0</td>\n",
       "      <td>0</td>\n",
       "      <td>40</td>\n",
       "      <td>38</td>\n",
       "      <td>0</td>\n",
       "    </tr>\n",
       "    <tr>\n",
       "      <th>3</th>\n",
       "      <td>53</td>\n",
       "      <td>3</td>\n",
       "      <td>4</td>\n",
       "      <td>1</td>\n",
       "      <td>5</td>\n",
       "      <td>0</td>\n",
       "      <td>2</td>\n",
       "      <td>1</td>\n",
       "      <td>0</td>\n",
       "      <td>0</td>\n",
       "      <td>40</td>\n",
       "      <td>38</td>\n",
       "      <td>0</td>\n",
       "    </tr>\n",
       "    <tr>\n",
       "      <th>4</th>\n",
       "      <td>28</td>\n",
       "      <td>3</td>\n",
       "      <td>1</td>\n",
       "      <td>1</td>\n",
       "      <td>9</td>\n",
       "      <td>5</td>\n",
       "      <td>2</td>\n",
       "      <td>0</td>\n",
       "      <td>0</td>\n",
       "      <td>0</td>\n",
       "      <td>40</td>\n",
       "      <td>4</td>\n",
       "      <td>0</td>\n",
       "    </tr>\n",
       "  </tbody>\n",
       "</table>\n",
       "</div>"
      ],
      "text/plain": [
       "   age  workclass  education  marital  occupation  relationship  race  sex  \\\n",
       "0   39          6          1        3           0             1     4    1   \n",
       "1   50          5          1        1           3             0     4    1   \n",
       "2   38          3          2        2           5             1     4    1   \n",
       "3   53          3          4        1           5             0     2    1   \n",
       "4   28          3          1        1           9             5     2    0   \n",
       "\n",
       "   gain  loss  hrs\\wk  nativity  income  \n",
       "0  2174     0      40        38       0  \n",
       "1     0     0      13        38       0  \n",
       "2     0     0      40        38       0  \n",
       "3     0     0      40        38       0  \n",
       "4     0     0      40         4       0  "
      ]
     },
     "execution_count": 41,
     "metadata": {},
     "output_type": "execute_result"
    }
   ],
   "source": [
    "# viewing the resulting dataframe:\n",
    "df.head()"
   ]
  },
  {
   "cell_type": "code",
   "execution_count": 42,
   "id": "9bf6c76a",
   "metadata": {},
   "outputs": [],
   "source": [
    "# seperating the dataset into feature(X) and the target(y):\n",
    "X = df.drop([\"income\"], axis=1)\n",
    "\n",
    "y = df[\"income\"]"
   ]
  },
  {
   "cell_type": "code",
   "execution_count": 43,
   "id": "0d028c2a",
   "metadata": {},
   "outputs": [
    {
     "data": {
      "text/plain": [
       "'Original data:'"
      ]
     },
     "metadata": {},
     "output_type": "display_data"
    },
    {
     "data": {
      "text/html": [
       "<div>\n",
       "<style scoped>\n",
       "    .dataframe tbody tr th:only-of-type {\n",
       "        vertical-align: middle;\n",
       "    }\n",
       "\n",
       "    .dataframe tbody tr th {\n",
       "        vertical-align: top;\n",
       "    }\n",
       "\n",
       "    .dataframe thead th {\n",
       "        text-align: right;\n",
       "    }\n",
       "</style>\n",
       "<table border=\"1\" class=\"dataframe\">\n",
       "  <thead>\n",
       "    <tr style=\"text-align: right;\">\n",
       "      <th></th>\n",
       "      <th>age</th>\n",
       "      <th>workclass</th>\n",
       "      <th>education</th>\n",
       "      <th>marital</th>\n",
       "      <th>occupation</th>\n",
       "      <th>relationship</th>\n",
       "      <th>race</th>\n",
       "      <th>sex</th>\n",
       "      <th>gain</th>\n",
       "      <th>loss</th>\n",
       "      <th>hrs\\wk</th>\n",
       "      <th>nativity</th>\n",
       "    </tr>\n",
       "  </thead>\n",
       "  <tbody>\n",
       "    <tr>\n",
       "      <th>0</th>\n",
       "      <td>39</td>\n",
       "      <td>6</td>\n",
       "      <td>1</td>\n",
       "      <td>3</td>\n",
       "      <td>0</td>\n",
       "      <td>1</td>\n",
       "      <td>4</td>\n",
       "      <td>1</td>\n",
       "      <td>2174</td>\n",
       "      <td>0</td>\n",
       "      <td>40</td>\n",
       "      <td>38</td>\n",
       "    </tr>\n",
       "    <tr>\n",
       "      <th>1</th>\n",
       "      <td>50</td>\n",
       "      <td>5</td>\n",
       "      <td>1</td>\n",
       "      <td>1</td>\n",
       "      <td>3</td>\n",
       "      <td>0</td>\n",
       "      <td>4</td>\n",
       "      <td>1</td>\n",
       "      <td>0</td>\n",
       "      <td>0</td>\n",
       "      <td>13</td>\n",
       "      <td>38</td>\n",
       "    </tr>\n",
       "    <tr>\n",
       "      <th>2</th>\n",
       "      <td>38</td>\n",
       "      <td>3</td>\n",
       "      <td>2</td>\n",
       "      <td>2</td>\n",
       "      <td>5</td>\n",
       "      <td>1</td>\n",
       "      <td>4</td>\n",
       "      <td>1</td>\n",
       "      <td>0</td>\n",
       "      <td>0</td>\n",
       "      <td>40</td>\n",
       "      <td>38</td>\n",
       "    </tr>\n",
       "    <tr>\n",
       "      <th>3</th>\n",
       "      <td>53</td>\n",
       "      <td>3</td>\n",
       "      <td>4</td>\n",
       "      <td>1</td>\n",
       "      <td>5</td>\n",
       "      <td>0</td>\n",
       "      <td>2</td>\n",
       "      <td>1</td>\n",
       "      <td>0</td>\n",
       "      <td>0</td>\n",
       "      <td>40</td>\n",
       "      <td>38</td>\n",
       "    </tr>\n",
       "    <tr>\n",
       "      <th>4</th>\n",
       "      <td>28</td>\n",
       "      <td>3</td>\n",
       "      <td>1</td>\n",
       "      <td>1</td>\n",
       "      <td>9</td>\n",
       "      <td>5</td>\n",
       "      <td>2</td>\n",
       "      <td>0</td>\n",
       "      <td>0</td>\n",
       "      <td>0</td>\n",
       "      <td>40</td>\n",
       "      <td>4</td>\n",
       "    </tr>\n",
       "  </tbody>\n",
       "</table>\n",
       "</div>"
      ],
      "text/plain": [
       "   age  workclass  education  marital  occupation  relationship  race  sex  \\\n",
       "0   39          6          1        3           0             1     4    1   \n",
       "1   50          5          1        1           3             0     4    1   \n",
       "2   38          3          2        2           5             1     4    1   \n",
       "3   53          3          4        1           5             0     2    1   \n",
       "4   28          3          1        1           9             5     2    0   \n",
       "\n",
       "   gain  loss  hrs\\wk  nativity  \n",
       "0  2174     0      40        38  \n",
       "1     0     0      13        38  \n",
       "2     0     0      40        38  \n",
       "3     0     0      40        38  \n",
       "4     0     0      40         4  "
      ]
     },
     "metadata": {},
     "output_type": "display_data"
    },
    {
     "data": {
      "text/plain": [
       "'Scaled data:'"
      ]
     },
     "metadata": {},
     "output_type": "display_data"
    },
    {
     "data": {
      "text/plain": [
       "array([[ 0.02530302,  2.60968126, -1.31741463, ..., -0.21725056,\n",
       "        -0.03436654,  0.25944955],\n",
       "       [ 0.82773742,  1.70987957, -1.31741463, ..., -0.21725056,\n",
       "        -2.21306345,  0.25944955],\n",
       "       [-0.04764557, -0.08972382, -0.6817363 , ..., -0.21725056,\n",
       "        -0.03436654,  0.25944955],\n",
       "       ...,\n",
       "       [-0.04764557, -0.08972382, -1.31741463, ..., -0.21725056,\n",
       "         0.77255824,  0.25944955],\n",
       "       [ 0.39004593, -0.08972382, -1.31741463, ..., -0.21725056,\n",
       "        -0.03436654,  0.25944955],\n",
       "       [-0.26649131,  0.81007788, -1.31741463, ..., -0.21725056,\n",
       "         1.57948303,  0.25944955]])"
      ]
     },
     "metadata": {},
     "output_type": "display_data"
    }
   ],
   "source": [
    "# scaling the dataset\n",
    "scaler = StandardScaler()\n",
    "scaler.fit_transform(X)\n",
    "\n",
    "scaled_data = scaler.transform(X)\n",
    "\n",
    "display(\"Original data:\", X.head())\n",
    "display(\"Scaled data:\", scaled_data)"
   ]
  },
  {
   "cell_type": "code",
   "execution_count": 44,
   "id": "81baf2de",
   "metadata": {},
   "outputs": [],
   "source": [
    "# splitting the dataset into the train data and the test data:\n",
    "\n",
    "X_train, X_test, y_train, y_test = train_test_split(X, y, test_size = 0.2, \n",
    "                                                   random_state = 42)"
   ]
  },
  {
   "cell_type": "code",
   "execution_count": 45,
   "id": "89e423fe",
   "metadata": {},
   "outputs": [
    {
     "data": {
      "text/plain": [
       "'Logistic Regression Accuracy: 0.8004714080754253'"
      ]
     },
     "metadata": {},
     "output_type": "display_data"
    },
    {
     "name": "stdout",
     "output_type": "stream",
     "text": [
      "Confusion Matrix:\n"
     ]
    },
    {
     "data": {
      "text/plain": [
       "array([[7004,  352],\n",
       "       [1595,  807]], dtype=int64)"
      ]
     },
     "metadata": {},
     "output_type": "display_data"
    },
    {
     "name": "stdout",
     "output_type": "stream",
     "text": [
      "Classification Report:\n",
      "              precision    recall  f1-score   support\n",
      "\n",
      "           0       0.81      0.95      0.88      7356\n",
      "           1       0.70      0.34      0.45      2402\n",
      "\n",
      "    accuracy                           0.80      9758\n",
      "   macro avg       0.76      0.64      0.67      9758\n",
      "weighted avg       0.79      0.80      0.77      9758\n",
      "\n"
     ]
    }
   ],
   "source": [
    "# Building a logistic model:\n",
    "log = LogisticRegression(max_iter=10000)\n",
    "log_mod = log.fit(X_train, y_train)\n",
    "\n",
    "log_pred = log_mod.predict(X_test)\n",
    "\n",
    "#Evaluate the model\n",
    "accuracy_log = accuracy_score(y_test, log_pred)\n",
    "conf_matrix_log = confusion_matrix(y_test, log_pred)\n",
    "class_report_log = classification_report(y_test, log_pred)\n",
    "\n",
    "display(f\"Logistic Regression Accuracy: {accuracy_log}\")\n",
    "print(\"Confusion Matrix:\")\n",
    "display(conf_matrix_log)\n",
    "print(\"Classification Report:\")\n",
    "print(class_report_log)"
   ]
  },
  {
   "cell_type": "code",
   "execution_count": 46,
   "id": "e2cb1883",
   "metadata": {},
   "outputs": [
    {
     "data": {
      "text/plain": [
       "'Accuracy: 0.8420782947325272'"
      ]
     },
     "metadata": {},
     "output_type": "display_data"
    },
    {
     "name": "stdout",
     "output_type": "stream",
     "text": [
      "Confusion Matrix:\n"
     ]
    },
    {
     "data": {
      "text/plain": [
       "array([[6768,  588],\n",
       "       [ 953, 1449]], dtype=int64)"
      ]
     },
     "metadata": {},
     "output_type": "display_data"
    },
    {
     "name": "stdout",
     "output_type": "stream",
     "text": [
      "Classification Report:\n",
      "              precision    recall  f1-score   support\n",
      "\n",
      "           0       0.88      0.92      0.90      7356\n",
      "           1       0.71      0.60      0.65      2402\n",
      "\n",
      "    accuracy                           0.84      9758\n",
      "   macro avg       0.79      0.76      0.78      9758\n",
      "weighted avg       0.84      0.84      0.84      9758\n",
      "\n"
     ]
    }
   ],
   "source": [
    "# Building the model\n",
    "rfc = RandomForestClassifier()\n",
    "rfc_model = rfc.fit(X_train, y_train)\n",
    "\n",
    "rfc_pred = rfc_model.predict(X_test)\n",
    "\n",
    "#Evaluate the model\n",
    "accuracy_rfc = accuracy_score(y_test, rfc_pred)\n",
    "conf_matrix_rfc = confusion_matrix(y_test, rfc_pred)\n",
    "class_report_rfc = classification_report(y_test, rfc_pred)\n",
    "\n",
    "\n",
    "display(f\"Accuracy: {accuracy_rfc}\")\n",
    "print(\"Confusion Matrix:\")\n",
    "display(conf_matrix_rfc)\n",
    "print(\"Classification Report:\")\n",
    "print(class_report_rfc)"
   ]
  },
  {
   "cell_type": "code",
   "execution_count": 47,
   "id": "1da21fd5",
   "metadata": {},
   "outputs": [],
   "source": [
    "# computing the confusion matrix:\n",
    "cm = confusion_matrix(y_test, rfc_pred)"
   ]
  },
  {
   "cell_type": "code",
   "execution_count": 48,
   "id": "569ac1cb",
   "metadata": {},
   "outputs": [
    {
     "data": {
      "image/png": "[encoded data removed]",
      "text/plain": [
       "<Figure size 720x504 with 2 Axes>"
      ]
     },
     "metadata": {
      "needs_background": "light"
     },
     "output_type": "display_data"
    }
   ],
   "source": [
    "plt.figure(figsize=(10,7))\n",
    "sns.heatmap(cm, annot=True, fmt='d', cmap='YlGnBu', \n",
    "            xticklabels=['Predicted Negative', 'Predicted Positive'], \n",
    "            yticklabels=['Actual Negative', 'Actual Positive'])\n",
    "plt.xlabel('Predicted Values')\n",
    "plt.ylabel('Actual Values')\n",
    "plt.title('Confusion Matrix of the Random Forest Classifier')\n",
    "plt.show()"
   ]
  },
  {
   "cell_type": "code",
   "execution_count": 49,
   "id": "2dafeac1",
   "metadata": {},
   "outputs": [],
   "source": [
    "# Training the dataset using the K-Nearest Neighbors model:\n",
    "knn = KNeighborsClassifier(n_neighbors=4)\n",
    "\n",
    "knn.fit(X_train, y_train)  # training the data.\n",
    "\n",
    "knn_pred = knn.predict(X_test)  # prediction is being done by the model."
   ]
  },
  {
   "cell_type": "code",
   "execution_count": 50,
   "id": "7b12fc10",
   "metadata": {},
   "outputs": [],
   "source": [
    "# Training the dataset using the Decision Tree model:\n",
    "dt = DecisionTreeClassifier(max_depth=5)\n",
    "\n",
    "dt.fit(X_train, y_train)   # the training of the data is ongoing here.\n",
    "\n",
    "dt_pred = dt.predict(X_test)   # And prediction is made here."
   ]
  },
  {
   "cell_type": "code",
   "execution_count": 51,
   "id": "a64cd6d9",
   "metadata": {},
   "outputs": [],
   "source": [
    "# Training the dataset using the Random Forest model:\n",
    "rfc = RandomForestClassifier(max_depth=5)\n",
    "\n",
    "rfc_model = rfc.fit(X_train, y_train)\n",
    "\n",
    "rfc_pred = rfc_model.predict(X_test)"
   ]
  },
  {
   "cell_type": "code",
   "execution_count": 52,
   "id": "fed846df",
   "metadata": {},
   "outputs": [],
   "source": [
    "# Training the dataset using the Support Vector Machine model:\n",
    "svm = SVC(kernel='rbf', C=1.0, tol=0.001, shrinking=True, cache_size=200) \n",
    "\n",
    "svm.fit(X_train, y_train)  # the data is being trained.\n",
    "\n",
    "svm_pred= svm.predict(X_test)  # the model is predicting."
   ]
  },
  {
   "cell_type": "code",
   "execution_count": 53,
   "id": "9c096de2",
   "metadata": {},
   "outputs": [
    {
     "name": "stdout",
     "output_type": "stream",
     "text": [
      "Logistic Regression Accuracy: 0.8\n",
      "K-Nearest Neighbors Accuracy: 0.83\n",
      "Support Vector Machine Accuracy: 0.8\n",
      "Decision Tree Accuracy: 0.83\n",
      "Random Forest Accuracy: 0.83\n"
     ]
    }
   ],
   "source": [
    "# Calculating the accuracy score of each model:\n",
    "log_accuracy = accuracy_score(y_test, log_pred)\n",
    "knn_accuracy = accuracy_score(y_test, knn_pred)\n",
    "svm_accuracy = accuracy_score(y_test, svm_pred)\n",
    "dt_accuracy = accuracy_score(y_test, dt_pred)\n",
    "rfc_accuracy = accuracy_score(y_test, rfc_pred)\n",
    "\n",
    "# Printing the accuracy score of each model:\n",
    "print(f\"Logistic Regression Accuracy: {round(log_accuracy, 2)}\")\n",
    "print(f\"K-Nearest Neighbors Accuracy: {round(knn_accuracy, 2)}\")\n",
    "print(f\"Support Vector Machine Accuracy: {round(svm_accuracy, 2)}\")\n",
    "print(f\"Decision Tree Accuracy: {round(dt_accuracy, 2)}\")\n",
    "print(f\"Random Forest Accuracy: {round(rfc_accuracy, 2)}\")"
   ]
  },
  {
   "cell_type": "code",
   "execution_count": 54,
   "id": "ac11c72d",
   "metadata": {},
   "outputs": [
    {
     "data": {
      "image/png": "[encoded data removed]",
      "text/plain": [
       "<Figure size 720x576 with 1 Axes>"
      ]
     },
     "metadata": {
      "needs_background": "light"
     },
     "output_type": "display_data"
    }
   ],
   "source": [
    "# Plotting the roc_curve for all the models on a single figure:\n",
    "\n",
    "# Initialize classifiers\n",
    "classifiers = {\n",
    "    'Log_reg': LogisticRegression(max_iter=10000),\n",
    "    'knn': KNeighborsClassifier(n_neighbors=4),\n",
    "    'svm': SVC(probability=True, kernel='rbf', C=1.0),\n",
    "    'dt': DecisionTreeClassifier(max_depth=5),\n",
    "    'rfc': RandomForestClassifier(max_depth=5)\n",
    "}\n",
    "\n",
    "plt.figure(figsize=(10, 8))\n",
    "\n",
    "# Iterating over classifiers:\n",
    "for name, clf in classifiers.items():\n",
    "    # Fit the model\n",
    "    clf.fit(X_train, y_train)\n",
    "    \n",
    "    # Getting the predicted probabilities:\n",
    "    y_probs = clf.predict_proba(X_test)[:, 1]\n",
    "    \n",
    "    # Calculating the ROC curve:\n",
    "    fpr, tpr, thresholds = roc_curve(y_test, y_probs)\n",
    "    \n",
    "    # Calculating the AUC score:\n",
    "    auc_score = roc_auc_score(y_test, y_probs)\n",
    "    \n",
    "    # Plotting the ROC curve:\n",
    "    plt.plot(fpr, tpr, label=f'{name} (AUC SCORE: = {auc_score:.2f})')\n",
    "\n",
    "# Setting the plot for better visualization:\n",
    "plt.plot([0, 1], [0, 1], 'k--')\n",
    "plt.xlim([0.0, 1.0])\n",
    "plt.ylim([0.0, 1.05])\n",
    "plt.xlabel('False Positive Rate (fpr)')\n",
    "plt.ylabel('True Positive Rate (tpr)')\n",
    "plt.title('ROC Curve Comparison')\n",
    "plt.legend(loc='lower right')\n",
    "plt.show()"
   ]
  },
  {
   "cell_type": "markdown",
   "id": "13a3f40f-b6be-4c64-bd2c-c7e2032721d5",
   "metadata": {},
   "source": [
    "## **Model Evaluation**"
   ]
  },
  {
   "cell_type": "markdown",
   "id": "508299b7-61fe-4ef1-b25f-44f6551c05c1",
   "metadata": {},
   "source": [
    "Because of the inbalance in our dataset, which makes accuracy score not to be trusted. We resort to using F1-score and the AUC score to evaluate the performance of each model used. Random Forest Model turns out to be the best performing model with the weighted average F1-score of 84% and AUC score of 89%. This actually makes our model to be a very good model."
   ]
  },
  {
   "cell_type": "markdown",
   "id": "81976992-6d19-4955-8424-4148a6c09db2",
   "metadata": {},
   "source": [
    "## **Summary and Recomendation**"
   ]
  },
  {
   "cell_type": "markdown",
   "id": "ae26e68e-a158-44ee-8860-117166f5f8f5",
   "metadata": {},
   "source": [
    "From the EDA previously done, we discover that there is an imbalance in the income of the people. Whereby we have more men in the labour force than women.\n",
    "And also a large percentage of younger people earns more than $50K per year. Also people with higher education tends to earn more than those with less education. Findings from the EDA also shows that features like final weight, native country, education num do not directly affect the income level.\n",
    "\n",
    "I will recommend that more relevant features should be added in order to increase the performance of this model. To further boost the efficiency of this model, we can employ the use of ensemble techniques like Xgboost and hyperparameters tuning can be used to fine tuned or optimize the performance of the model."
   ]
  },
  {
   "cell_type": "code",
   "execution_count": null,
   "id": "27b6d8f4-909c-4df5-80bc-3fe2a2904ed3",
   "metadata": {},
   "outputs": [],
   "source": []
  }
 ],
 "metadata": {
  "kernelspec": {
   "display_name": "Python 3",
   "language": "python",
   "name": "python3"
  },
  "language_info": {
   "codemirror_mode": {
    "name": "ipython",
    "version": 3
   },
   "file_extension": ".py",
   "mimetype": "text/x-python",
   "name": "python",
   "nbconvert_exporter": "python",
   "pygments_lexer": "ipython3",
   "version": "3.8.8"
  }
 },
 "nbformat": 4,
 "nbformat_minor": 5
}
